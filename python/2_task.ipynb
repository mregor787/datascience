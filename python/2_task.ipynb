{
 "cells": [
  {
   "cell_type": "markdown",
   "id": "246424fe",
   "metadata": {},
   "source": [
    "# Самостоятельная работа #2\n",
    "### Задание 1\n",
    "\n",
    "Допишите функцию, которая принимает 2 числа, сравнивает между собой и возвращает наименьшее."
   ]
  },
  {
   "cell_type": "code",
   "execution_count": 2,
   "id": "1b225d18",
   "metadata": {},
   "outputs": [],
   "source": [
    "# Начните писать код тут\n",
    "def get_min_two(a: int, b: int) -> int:\n",
    "    return a if a < b else b\n"
   ]
  },
  {
   "cell_type": "markdown",
   "id": "9342d85f",
   "metadata": {},
   "source": [
    "### Задание 2\n",
    "\n",
    "Допишите функцию, которая принимает 3 числа, сравнивает между собой и возвращает наименьшее."
   ]
  },
  {
   "cell_type": "code",
   "execution_count": 5,
   "id": "5371aa95",
   "metadata": {},
   "outputs": [],
   "source": [
    "# Начните писать код тут\n",
    "def get_min_three(a: int, b: int, c: int) -> int:\n",
    "    return a if a < b and a < c else b if b < c else c\n"
   ]
  },
  {
   "cell_type": "markdown",
   "id": "9ef85dfd",
   "metadata": {},
   "source": [
    "### Задание 3\n",
    "\n",
    "Допишите функцию, которая принимает 3 числа, сравнивает между собой и возвращает количество совпадающих чисел. Соответственно, программа может возвращать одно из трех чисел: 3 - если совпадают все, 2 - если совпадают 2 числа, 0 - если все числа различны."
   ]
  },
  {
   "cell_type": "code",
   "execution_count": 7,
   "id": "ec6a169c",
   "metadata": {},
   "outputs": [],
   "source": [
    "# Начните писать код тут\n",
    "def matching_numbers(a: int, b: int, c: int) -> int:\n",
    "    if (a == b == c):\n",
    "        return 3\n",
    "    if (a == b or a == c or b == c):\n",
    "        return 2\n",
    "    return 0\n"
   ]
  }
 ],
 "metadata": {
  "kernelspec": {
   "display_name": "Python 3.10.4 ('venv': venv)",
   "language": "python",
   "name": "python3"
  },
  "language_info": {
   "codemirror_mode": {
    "name": "ipython",
    "version": 3
   },
   "file_extension": ".py",
   "mimetype": "text/x-python",
   "name": "python",
   "nbconvert_exporter": "python",
   "pygments_lexer": "ipython3",
   "version": "3.10.4"
  },
  "vscode": {
   "interpreter": {
    "hash": "82db91b7a00fafbe71a6c21a0578f33579f4e96bb81e556ff6000ed204101968"
   }
  }
 },
 "nbformat": 4,
 "nbformat_minor": 5
}
