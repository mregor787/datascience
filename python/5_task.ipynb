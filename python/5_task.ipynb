{
 "cells": [
  {
   "cell_type": "markdown",
   "id": "85755de8",
   "metadata": {},
   "source": [
    "# Самостоятельное задание #5\n",
    "\n",
    "\n",
    "### Задание 1\n",
    "\n",
    "Допишите функцию, которая принимает список, выбирает из него все элементы с четным индексом и возвращает их в виде списка."
   ]
  },
  {
   "cell_type": "code",
   "execution_count": 3,
   "id": "6ef6d9b3",
   "metadata": {},
   "outputs": [],
   "source": [
    "# Начните писать код тут\n",
    "def get_even_indexes(arr: list) -> list:\n",
    "    return arr[::2]\n"
   ]
  },
  {
   "cell_type": "markdown",
   "id": "443974c9",
   "metadata": {},
   "source": [
    "### Задание 2\n",
    "\n",
    "Допишите функцию, которая принимает список, выбирает из него все элементы, которые больше предыдущего и возвращает их в виде списка.\n"
   ]
  },
  {
   "cell_type": "code",
   "execution_count": 7,
   "id": "3a8cf925",
   "metadata": {},
   "outputs": [],
   "source": [
    "# Начните писать код тут\n",
    "def get_more_than_prev(arr: list) -> list:\n",
    "    return [arr[i] for i in range(1, len(arr)) if arr[i] > arr[i - 1]]\n"
   ]
  },
  {
   "cell_type": "markdown",
   "id": "34524ede",
   "metadata": {},
   "source": [
    "### Задание 3\n",
    "\n",
    "Допишите функцию, которая принимает список, меняет местами наибольший и наименьший элементы и возвращает этот список."
   ]
  },
  {
   "cell_type": "code",
   "execution_count": 11,
   "id": "34d2beae",
   "metadata": {},
   "outputs": [
    {
     "name": "stdout",
     "output_type": "stream",
     "text": [
      "[1, 2, 3, 4, 9, 6]\n"
     ]
    }
   ],
   "source": [
    "# Начните писать код тут\n",
    "def swap_max_min(arr: list) -> list:\n",
    "    max_i = min_i = 0\n",
    "    max_val = min_val = arr[0]\n",
    "    for i, val in enumerate(arr):\n",
    "        if val > max_val:\n",
    "            max_val = val\n",
    "            max_i = i\n",
    "        if val < min_val:\n",
    "            min_val = val\n",
    "            min_i = i\n",
    "    arr[min_i], arr[max_i] = max_val, min_val\n",
    "    return arr\n"
   ]
  }
 ],
 "metadata": {
  "kernelspec": {
   "display_name": "Python 3.10.4 ('venv': venv)",
   "language": "python",
   "name": "python3"
  },
  "language_info": {
   "codemirror_mode": {
    "name": "ipython",
    "version": 3
   },
   "file_extension": ".py",
   "mimetype": "text/x-python",
   "name": "python",
   "nbconvert_exporter": "python",
   "pygments_lexer": "ipython3",
   "version": "3.10.4"
  },
  "vscode": {
   "interpreter": {
    "hash": "82db91b7a00fafbe71a6c21a0578f33579f4e96bb81e556ff6000ed204101968"
   }
  }
 },
 "nbformat": 4,
 "nbformat_minor": 5
}
